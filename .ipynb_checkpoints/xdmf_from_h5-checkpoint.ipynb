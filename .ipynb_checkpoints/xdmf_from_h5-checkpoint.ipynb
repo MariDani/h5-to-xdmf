{
 "cells": [
  {
   "cell_type": "markdown",
   "metadata": {},
   "source": [
    "# Creating `.xdmf` file for `.h5` files to open them in [Paraview](https://www.paraview.org/)\n",
    "<br>\n",
    "\n",
    "This code results is a single `.xdmf` file where each data frame is represented by compound of three parts (header + body + footer). Header and body parts have to be modified based on the dataset properties.\n",
    "\n",
    "There are **two creation options** how to run this code:\n",
    "1. You can create these files within this notebook based on the instructions written below, the files will be than saved in the same folder as resulting *.xdmf* file so they can be reused later\n",
    "2. Load prepared *.txt* files with prepared *header*, *body*, and *footer*"
   ]
  },
  {
   "cell_type": "code",
   "execution_count": 8,
   "metadata": {
    "init_cell": true
   },
   "outputs": [],
   "source": [
    "%run xdmf_from_h5.py"
   ]
  },
  {
   "cell_type": "markdown",
   "metadata": {},
   "source": [
    "<img src=https://binderhub.readthedocs.io/en/latest/_static/logo.png width=\"50\" float=\"left\" style=\"float: left;\">\n",
    "\n",
    "### For Binder\n",
    "To show what this notebook can do, run the following cell and don't change anything, it will load sample data from our repository. The sample data are 2D fileds, after clicking on **Continue** button, asign `x1` to x axis, `y1` to y axis and leave the z axis empty, next we recommend to select `a0_x1`, `a0_y1`, `carbon` and `proton` as attributes."
   ]
  },
  {
   "cell_type": "code",
   "execution_count": 9,
   "metadata": {},
   "outputs": [
    {
     "data": {
      "application/vnd.jupyter.widget-view+json": {
       "model_id": "2fd8aa4c50d0486098ac4341489d3f57",
       "version_major": 2,
       "version_minor": 0
      },
      "text/plain": [
       "HTML(value='<h1>Dataset parameters</h1>')"
      ]
     },
     "metadata": {},
     "output_type": "display_data"
    },
    {
     "data": {
      "application/vnd.jupyter.widget-view+json": {
       "model_id": "f350f710048e45e5be04cf8dcb8055ff",
       "version_major": 2,
       "version_minor": 0
      },
      "text/plain": [
       "RadioButtons(description='Dataset type:', options=('fields', 'particles'), style=DescriptionStyle(description_…"
      ]
     },
     "metadata": {},
     "output_type": "display_data"
    },
    {
     "data": {
      "application/vnd.jupyter.widget-view+json": {
       "model_id": "082dd8c7df314b3c909ece4f754dbb13",
       "version_major": 2,
       "version_minor": 0
      },
      "text/plain": [
       "Text(value='sample_data', description='Dirname:', style=DescriptionStyle(description_width='initial'))"
      ]
     },
     "metadata": {},
     "output_type": "display_data"
    },
    {
     "data": {
      "application/vnd.jupyter.widget-view+json": {
       "model_id": "1b8f9ecbf39e4191a614f3fff4943305",
       "version_major": 2,
       "version_minor": 0
      },
      "text/plain": [
       "Text(value='fields', description='XDMF filename:', style=DescriptionStyle(description_width='initial'))"
      ]
     },
     "metadata": {},
     "output_type": "display_data"
    },
    {
     "data": {
      "application/vnd.jupyter.widget-view+json": {
       "model_id": "998770c660434320bab9d4b534738de6",
       "version_major": 2,
       "version_minor": 0
      },
      "text/plain": [
       "Dropdown(description='Creation option', options=('create XDMF parts', 'load XDMF parts'), style=DescriptionSty…"
      ]
     },
     "metadata": {},
     "output_type": "display_data"
    },
    {
     "data": {
      "application/vnd.jupyter.widget-view+json": {
       "model_id": "2f1791dc4ccc49168dda99209a6ebe02",
       "version_major": 2,
       "version_minor": 0
      },
      "text/plain": [
       "HTML(value='<br>')"
      ]
     },
     "metadata": {},
     "output_type": "display_data"
    },
    {
     "data": {
      "application/vnd.jupyter.widget-view+json": {
       "model_id": "27ec5a90efcd439d94ff2d08bc95496c",
       "version_major": 2,
       "version_minor": 0
      },
      "text/plain": [
       "Button(description='Continue', style=ButtonStyle())"
      ]
     },
     "metadata": {},
     "output_type": "display_data"
    },
    {
     "data": {
      "application/vnd.jupyter.widget-view+json": {
       "model_id": "458a7a4c0ac44abfa134071fa1a0e664",
       "version_major": 2,
       "version_minor": 0
      },
      "text/plain": [
       "Output()"
      ]
     },
     "metadata": {},
     "output_type": "display_data"
    }
   ],
   "source": [
    "init()"
   ]
  },
  {
   "cell_type": "markdown",
   "metadata": {},
   "source": [
    "<img src=https://binderhub.readthedocs.io/en/latest/_static/logo.png width=\"50\" float=\"left\" style=\"float: left;\">\n",
    "\n",
    "### For Binder\n",
    "If you have correclty executed the cell above, `.xdmf` file and couple `.txt` files have been created. \n",
    "\n",
    "Below is print screen of loading this `.xdmf` file in Paraview which means opening `.h5` dataset located in the *sample_folder* in our repository.\n",
    "<img src=img/paraview_preview.JPG width=\"50\" float=\"left\" style=\"float: left;\">"
   ]
  },
  {
   "cell_type": "markdown",
   "metadata": {},
   "source": [
    "## Optional .h5 viewer to see files structure\n",
    "Select one of the `.h5` files that are saved inside the directory you have defined above."
   ]
  },
  {
   "cell_type": "code",
   "execution_count": 5,
   "metadata": {},
   "outputs": [
    {
     "data": {
      "application/vnd.jupyter.widget-view+json": {
       "model_id": "fdf15f348c2f4f34a05dc2e1852fe4e4",
       "version_major": 2,
       "version_minor": 0
      },
      "text/plain": [
       "Accordion(children=(SelectMultiple(options=(('[..]', '..'), ('elimaia_fields-0008.h5', 'elimaia_fields-0008.h5…"
      ]
     },
     "metadata": {},
     "output_type": "display_data"
    }
   ],
   "source": [
    "h5Preview.getFile(getDirname())"
   ]
  },
  {
   "cell_type": "code",
   "execution_count": null,
   "metadata": {},
   "outputs": [],
   "source": [
    "%matplotlib ipympl\n",
    "h5Preview.showFile()"
   ]
  },
  {
   "cell_type": "code",
   "execution_count": null,
   "metadata": {},
   "outputs": [],
   "source": []
  }
 ],
 "metadata": {
  "kernelspec": {
   "display_name": "Python 3",
   "language": "python",
   "name": "python3"
  },
  "language_info": {
   "codemirror_mode": {
    "name": "ipython",
    "version": 3
   },
   "file_extension": ".py",
   "mimetype": "text/x-python",
   "name": "python",
   "nbconvert_exporter": "python",
   "pygments_lexer": "ipython3",
   "version": "3.7.3"
  }
 },
 "nbformat": 4,
 "nbformat_minor": 2
}
