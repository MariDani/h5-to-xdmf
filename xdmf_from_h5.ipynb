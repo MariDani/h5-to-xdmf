{
 "cells": [
  {
   "cell_type": "markdown",
   "metadata": {},
   "source": [
    "# Creating `.xdmf` file for `.h5` files to open them in [Paraview](https://www.paraview.org/)\n",
    "<br>\n",
    "\n",
    "Input of this tool is a directory with `.h5` temporal dataset (each frame equals one file). The result is a single `.xdmf` file where each data frame is represented by compound of three parts (header + body + footer). Header and body parts have to be modified based on the dataset properties.\n",
    "\n",
    "There are **two creation options** how to run this code:\n",
    "1. You can create these files within this notebook based on the instructions written below, the files will be than saved in the same folder as resulting *.xdmf* file so they can be reused later\n",
    "2. Load prepared *.txt* files with prepared *header*, *body*, and *footer*"
   ]
  },
  {
   "cell_type": "code",
   "execution_count": null,
   "metadata": {
    "init_cell": true
   },
   "outputs": [],
   "source": [
    "%run xdmf_from_h5.py"
   ]
  },
  {
   "cell_type": "markdown",
   "metadata": {},
   "source": [
    "<img src=https://binderhub.readthedocs.io/en/latest/_static/logo.png width=\"50\" float=\"left\" style=\"float: left;\">\n",
    "\n",
    "### For Binder presentation\n",
    "To show what this notebook can do, run the following cell and don't change anything, it will load sample data from our repository. The sample data are 2D fileds, after clicking on **Continue** button, asign `x1` to x axis, `y1` to y axis and leave the z axis empty, next we recommend to select `a0_x1`, `a0_y1`, `carbon` and `proton` as attributes."
   ]
  },
  {
   "cell_type": "code",
   "execution_count": null,
   "metadata": {},
   "outputs": [],
   "source": [
    "init()"
   ]
  },
  {
   "cell_type": "markdown",
   "metadata": {},
   "source": [
    "<img src=https://binderhub.readthedocs.io/en/latest/_static/logo.png width=\"50\" float=\"left\" style=\"float: left;\">\n",
    "\n",
    "### For Binder presentation\n",
    "If you have correclty executed the cell above, `.xdmf` file and additonal `.txt` files have been created. The `.txt` files are not required for opening the dataset in Paraview, they have been created for other possible future data operations.\n",
    "\n",
    "<a href=\"sample_data/fields.xdmf\" target=\"_blank\">fields.xdmf</a>\n",
    "<br>\n",
    "<a href=\"sample_data/fields-header.txt\" target=\"_blank\">fields-header.txt</a>, <a href=\"sample_data/fields-body.txt\" target=\"_blank\">fields-body.txt</a>, <a href=\"sample_data/fields-footer.txt\" target=\"_blank\">fields-footer.txt</a> \n",
    "\n",
    "Below is print screen of loading this `.xdmf` file in Paraview which means opening `.h5` dataset located in the *sample_folder* in our repository.\n",
    "<img src=img/paraview_preview.JPG width=\"auto\" float=\"left\" style=\"float: left;\">"
   ]
  },
  {
   "cell_type": "markdown",
   "metadata": {},
   "source": [
    "## Optional .h5 viewer to see files structure\n",
    "Select one of the `.h5` files that are saved inside the directory you have defined above."
   ]
  },
  {
   "cell_type": "code",
   "execution_count": null,
   "metadata": {},
   "outputs": [],
   "source": [
    "h5Preview.getFile(getDirname())"
   ]
  },
  {
   "cell_type": "code",
   "execution_count": null,
   "metadata": {},
   "outputs": [],
   "source": [
    "%matplotlib ipympl\n",
    "h5Preview.showFile()"
   ]
  },
  {
   "cell_type": "code",
   "execution_count": null,
   "metadata": {},
   "outputs": [],
   "source": []
  }
 ],
 "metadata": {
  "kernelspec": {
   "display_name": "Python 3",
   "language": "python",
   "name": "python3"
  },
  "language_info": {
   "codemirror_mode": {
    "name": "ipython",
    "version": 3
   },
   "file_extension": ".py",
   "mimetype": "text/x-python",
   "name": "python",
   "nbconvert_exporter": "python",
   "pygments_lexer": "ipython3",
   "version": "3.7.3"
  }
 },
 "nbformat": 4,
 "nbformat_minor": 2
}
