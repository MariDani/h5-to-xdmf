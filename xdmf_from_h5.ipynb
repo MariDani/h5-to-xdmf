{
 "cells": [
  {
   "cell_type": "markdown",
   "metadata": {},
   "source": [
    "# Creating `.xdmf` file for `.h5` files to open them in [Paraview](https://www.paraview.org/)\n",
    "<br>\n",
    "\n",
    "This code results is a single `.xdmf` file where each data frame is represented by compound of three parts (header + body + footer). Header and body parts have to be modified based on the dataset properties.\n",
    "\n",
    "There are **two creation options** how to run this code:\n",
    "1. You can create these files within this notebook based on the instructions written below, the files will be than saved in the same folder as resulting *.xdmf* file so they can be reused later\n",
    "2. Load prepared *.txt* files with prepared *header*, *body*, and *footer*"
   ]
  },
  {
   "cell_type": "code",
   "execution_count": 1,
   "metadata": {},
   "outputs": [],
   "source": [
    "%run xdmf_from_h5.py"
   ]
  },
  {
   "cell_type": "code",
   "execution_count": 2,
   "metadata": {},
   "outputs": [
    {
     "data": {
      "application/vnd.jupyter.widget-view+json": {
       "model_id": "5e374a2094734427888ea872e718b923",
       "version_major": 2,
       "version_minor": 0
      },
      "text/plain": [
       "HTML(value='<h1>Dataset parameters</h1>')"
      ]
     },
     "metadata": {},
     "output_type": "display_data"
    },
    {
     "data": {
      "application/vnd.jupyter.widget-view+json": {
       "model_id": "686aaaf3f02244e0ae86818ba9ef66f8",
       "version_major": 2,
       "version_minor": 0
      },
      "text/plain": [
       "RadioButtons(description='Dataset type:', options=('particles', 'fields'), style=DescriptionStyle(description_…"
      ]
     },
     "metadata": {},
     "output_type": "display_data"
    },
    {
     "data": {
      "application/vnd.jupyter.widget-view+json": {
       "model_id": "71c4819081924f8c86786302d3394e5b",
       "version_major": 2,
       "version_minor": 0
      },
      "text/plain": [
       "Text(value='D:\\\\Jupyter\\\\jupyter-xdmf-from-h5\\\\data\\\\3D_fields', description='Dirname:', style=DescriptionStyl…"
      ]
     },
     "metadata": {},
     "output_type": "display_data"
    },
    {
     "data": {
      "application/vnd.jupyter.widget-view+json": {
       "model_id": "c343bbaa762d4bb3a2c79dd4ffb207ef",
       "version_major": 2,
       "version_minor": 0
      },
      "text/plain": [
       "Text(value='fields', description='XDMF filename:', style=DescriptionStyle(description_width='initial'))"
      ]
     },
     "metadata": {},
     "output_type": "display_data"
    },
    {
     "data": {
      "application/vnd.jupyter.widget-view+json": {
       "model_id": "8d832841b96241eb81557acab35b5cc1",
       "version_major": 2,
       "version_minor": 0
      },
      "text/plain": [
       "Dropdown(description='Creation option', options=('create XDMF parts', 'load XDMF parts'), style=DescriptionSty…"
      ]
     },
     "metadata": {},
     "output_type": "display_data"
    },
    {
     "data": {
      "application/vnd.jupyter.widget-view+json": {
       "model_id": "3a960b21f3884995813e10701add929e",
       "version_major": 2,
       "version_minor": 0
      },
      "text/plain": [
       "HTML(value='<br>')"
      ]
     },
     "metadata": {},
     "output_type": "display_data"
    },
    {
     "data": {
      "application/vnd.jupyter.widget-view+json": {
       "model_id": "e1fa503090c1461eaa68f541f87bb183",
       "version_major": 2,
       "version_minor": 0
      },
      "text/plain": [
       "Button(description='Continue', style=ButtonStyle())"
      ]
     },
     "metadata": {},
     "output_type": "display_data"
    },
    {
     "data": {
      "application/vnd.jupyter.widget-view+json": {
       "model_id": "f7e5929031ee41d79ac19ede2e61dc28",
       "version_major": 2,
       "version_minor": 0
      },
      "text/plain": [
       "Output()"
      ]
     },
     "metadata": {},
     "output_type": "display_data"
    }
   ],
   "source": [
    "init()"
   ]
  },
  {
   "cell_type": "markdown",
   "metadata": {},
   "source": [
    "## Optional .h5 viewer to see files structure\n",
    "Select one of the `.h5` files that are saved inside the directory you have defined above."
   ]
  },
  {
   "cell_type": "code",
   "execution_count": null,
   "metadata": {},
   "outputs": [],
   "source": [
    "h5Preview.getFile(getDirname())"
   ]
  },
  {
   "cell_type": "code",
   "execution_count": null,
   "metadata": {},
   "outputs": [],
   "source": [
    "%matplotlib ipympl\n",
    "h5Preview.showFile()"
   ]
  },
  {
   "cell_type": "code",
   "execution_count": null,
   "metadata": {},
   "outputs": [],
   "source": []
  }
 ],
 "metadata": {
  "kernelspec": {
   "display_name": "Python 3",
   "language": "python",
   "name": "python3"
  },
  "language_info": {
   "codemirror_mode": {
    "name": "ipython",
    "version": 3
   },
   "file_extension": ".py",
   "mimetype": "text/x-python",
   "name": "python",
   "nbconvert_exporter": "python",
   "pygments_lexer": "ipython3",
   "version": "3.7.3"
  }
 },
 "nbformat": 4,
 "nbformat_minor": 2
}
