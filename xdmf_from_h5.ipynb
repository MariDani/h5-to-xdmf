{
 "cells": [
  {
   "cell_type": "markdown",
   "metadata": {},
   "source": [
    "# Creating `.xdmf` file for `.h5` files to open them in [Paraview](https://www.paraview.org/)\n",
    "<br>\n",
    "\n",
    "This code results is a single `.xdmf` file where each data frame is represented by compound of three parts (header + body + footer). Header and body parts have to be modified based on the dataset properties.\n",
    "\n",
    "There are **two creation options** how to run this code:\n",
    "1. You can create these files within this notebook based on the instructions written below, the files will be than saved in the same folder as resulting *.xdmf* file so they can be reused later\n",
    "2. Load prepared *.txt* files with prepared *header*, *body*, and *footer*"
   ]
  },
  {
   "cell_type": "code",
   "execution_count": 2,
   "metadata": {},
   "outputs": [],
   "source": [
    "%run xdmf_from_h5.py"
   ]
  },
  {
   "cell_type": "code",
   "execution_count": 3,
   "metadata": {},
   "outputs": [
    {
     "data": {
      "application/vnd.jupyter.widget-view+json": {
       "model_id": "a937f9134478471eb6ddabd9aec8e3be",
       "version_major": 2,
       "version_minor": 0
      },
      "text/plain": [
       "Accordion(children=(SelectMultiple(options=(('[..]', '..'), ('[data]', 'data'), ('[h5Preview]', 'h5Preview')),…"
      ]
     },
     "metadata": {},
     "output_type": "display_data"
    }
   ],
   "source": [
    "selectedPath = PathSelector(extensions=[\".hdf\",\".h5\",\".nxs\"])\n",
    "selectedPath.widget"
   ]
  },
  {
   "cell_type": "code",
   "execution_count": null,
   "metadata": {},
   "outputs": [],
   "source": [
    "init()"
   ]
  },
  {
   "cell_type": "markdown",
   "metadata": {},
   "source": [
    "## Optional .h5 viewer to see files structure\n",
    "Select one of the `.h5` files that are saved inside the directory you have defined above."
   ]
  },
  {
   "cell_type": "code",
   "execution_count": null,
   "metadata": {},
   "outputs": [],
   "source": [
    "h5Preview.getFile(getDirname())"
   ]
  },
  {
   "cell_type": "code",
   "execution_count": null,
   "metadata": {},
   "outputs": [],
   "source": [
    "%matplotlib ipympl\n",
    "h5Preview.showFile()"
   ]
  },
  {
   "cell_type": "code",
   "execution_count": null,
   "metadata": {},
   "outputs": [],
   "source": []
  }
 ],
 "metadata": {
  "celltoolbar": "Raw Cell Format",
  "kernelspec": {
   "display_name": "Python 3",
   "language": "python",
   "name": "python3"
  },
  "language_info": {
   "codemirror_mode": {
    "name": "ipython",
    "version": 3
   },
   "file_extension": ".py",
   "mimetype": "text/x-python",
   "name": "python",
   "nbconvert_exporter": "python",
   "pygments_lexer": "ipython3",
   "version": "3.7.3"
  }
 },
 "nbformat": 4,
 "nbformat_minor": 2
}
